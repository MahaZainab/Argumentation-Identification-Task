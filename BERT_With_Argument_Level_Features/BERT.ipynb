{
 "cells": [
  {
   "cell_type": "markdown",
   "metadata": {},
   "source": [
    "# Text Classification With Argument Level Textual Features"
   ]
  },
  {
   "cell_type": "markdown",
   "metadata": {},
   "source": [
    "### Importing the required libraries"
   ]
  },
  {
   "cell_type": "code",
   "execution_count": null,
   "metadata": {},
   "outputs": [],
   "source": [
    "from transformers import BertTokenizer, BertForSequenceClassification, Trainer, TrainingArguments\n",
    "from sklearn.model_selection import train_test_split\n",
    "from sklearn.metrics import accuracy_score, classification_report\n",
    "import pandas as pd\n",
    "import spacy"
   ]
  },
  {
   "cell_type": "markdown",
   "metadata": {},
   "source": [
    "### Reading the dataset"
   ]
  },
  {
   "cell_type": "code",
   "execution_count": null,
   "metadata": {},
   "outputs": [],
   "source": [
    "df = pd.read_csv('compiled_output.csv')"
   ]
  },
  {
   "cell_type": "markdown",
   "metadata": {},
   "source": [
    "### Removing rows with empty or irrelevant content"
   ]
  },
  {
   "cell_type": "code",
   "execution_count": null,
   "metadata": {},
   "outputs": [],
   "source": [
    "df = df[df['Text'].str.strip().notna()]  # Remove rows with empty strings\n",
    "df = df[df['Text'].str.strip() != '']  # Remove rows with only whitespace\n",
    "df = df[~df['Text'].str.contains(r'\\[.*\\]')]  # Remove rows with non-textual content like '[2]'\n"
   ]
  },
  {
   "cell_type": "markdown",
   "metadata": {},
   "source": [
    "### Maping labels to integers"
   ]
  },
  {
   "cell_type": "code",
   "execution_count": null,
   "metadata": {},
   "outputs": [],
   "source": [
    "label_mapping = {\n",
    "    'background_claim': 0,  # Example: background_claim -> 0\n",
    "    'own_claim': 1,         # Example: own_claim -> 1\n",
    "    'data': 2               # Example: data -> 2\n",
    "}\n",
    "df['Label'] = df['Label'].map(label_mapping)\n"
   ]
  },
  {
   "cell_type": "markdown",
   "metadata": {},
   "source": [
    "### Extract additional required features"
   ]
  },
  {
   "cell_type": "code",
   "execution_count": null,
   "metadata": {},
   "outputs": [],
   "source": [
    "nlp = spacy.load(\"en_core_web_sm\")\n",
    "\n",
    "def extract_features(text):\n",
    "    doc = nlp(text)\n",
    "    tokens = [token.text.lower() for token in doc]\n",
    "    agreement_count = sum(token in agreement_lexicon for token in tokens)\n",
    "    disagreement_count = sum(token in disagreement_lexicon for token in tokens)\n",
    "    hedge_count = sum(token in hedge_words for token in tokens)\n",
    "    modal_count = sum(token in modal_verbs for token in tokens)\n",
    "    negation_count = sum(token in negation_lexicon for token in tokens)\n",
    "    return agreement_count, disagreement_count, hedge_count, modal_count, negation_count\n",
    "\n",
    "agreement_lexicon = ['agree', 'yes', 'definitely', 'sure', 'absolutely', 'of course', 'agreement', 'consistent', 'consistent with', 'support', 'supports', 'endorses']\n",
    "disagreement_lexicon = ['disagree', 'no', 'never', 'not', 'don’t', 'won’t', 'disagreement', 'opposes', 'opposed', 'against', 'contradicts']\n",
    "hedge_words = ['perhaps', 'maybe', 'possibly', 'could', 'might', 'probably', 'likely', 'uncertain', 'should']\n",
    "modal_verbs = ['can', 'could', 'may', 'might', 'shall', 'should', 'will', 'would']\n",
    "negation_lexicon = ['not', 'never', 'no', 'none', 'nothing', 'neither']\n",
    "df[['agreement_count', 'disagreement_count', 'hedge_count', 'modal_count', 'negation_count']] = df['Text'].apply(\n",
    "    lambda x: pd.Series(extract_features(x))\n",
    ")"
   ]
  },
  {
   "cell_type": "markdown",
   "metadata": {},
   "source": [
    "### Spliting the dataset into train and test sets"
   ]
  },
  {
   "cell_type": "code",
   "execution_count": null,
   "metadata": {},
   "outputs": [],
   "source": [
    "train_texts, test_texts, train_labels, test_labels = train_test_split(\n",
    "    df['Text'].tolist(), df['Label'].tolist(), test_size=0.3, random_state=42\n",
    ")\n",
    "train_features, test_features = train_test_split(\n",
    "    df[['agreement_count', 'disagreement_count', 'hedge_count', 'modal_count', 'negation_count']].values, test_size=0.3, random_state=42\n",
    ")"
   ]
  },
  {
   "cell_type": "markdown",
   "metadata": {},
   "source": []
  }
 ],
 "metadata": {
  "language_info": {
   "name": "python"
  }
 },
 "nbformat": 4,
 "nbformat_minor": 2
}
